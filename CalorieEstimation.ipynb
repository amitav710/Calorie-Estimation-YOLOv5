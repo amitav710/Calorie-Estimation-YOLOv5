{
  "nbformat": 4,
  "nbformat_minor": 0,
  "metadata": {
    "colab": {
      "name": "CalorieEstimation.ipynb",
      "provenance": [],
      "authorship_tag": "ABX9TyNTcBxino0+H9Y4ppO8ZuXA",
      "include_colab_link": true
    },
    "kernelspec": {
      "name": "python3",
      "display_name": "Python 3"
    },
    "language_info": {
      "name": "python"
    }
  },
  "cells": [
    {
      "cell_type": "markdown",
      "metadata": {
        "id": "view-in-github",
        "colab_type": "text"
      },
      "source": [
        "<a href=\"https://colab.research.google.com/github/amitav710/Calorie-Estimation-YOLOv5/blob/main/CalorieEstimation.ipynb\" target=\"_parent\"><img src=\"https://colab.research.google.com/assets/colab-badge.svg\" alt=\"Open In Colab\"/></a>"
      ]
    },
    {
      "cell_type": "code",
      "execution_count": null,
      "metadata": {
        "id": "8F5I8ckjjzqX",
        "colab": {
          "base_uri": "https://localhost:8080/"
        },
        "outputId": "a52ce7f4-f28c-448a-f81e-b3c1b19bab41"
      },
      "outputs": [
        {
          "output_type": "stream",
          "name": "stdout",
          "text": [
            "Cloning into 'yolov5'...\n",
            "remote: Enumerating objects: 13025, done.\u001b[K\n",
            "remote: Counting objects: 100% (200/200), done.\u001b[K\n",
            "remote: Compressing objects: 100% (92/92), done.\u001b[K\n",
            "remote: Total 13025 (delta 123), reused 177 (delta 108), pack-reused 12825\u001b[K\n",
            "Receiving objects: 100% (13025/13025), 12.40 MiB | 14.21 MiB/s, done.\n",
            "Resolving deltas: 100% (8951/8951), done.\n",
            "/content/yolov5\n",
            "\u001b[K     |████████████████████████████████| 596 kB 4.3 MB/s \n",
            "\u001b[K     |████████████████████████████████| 145 kB 4.2 MB/s \n",
            "\u001b[K     |████████████████████████████████| 178 kB 63.3 MB/s \n",
            "\u001b[K     |████████████████████████████████| 4.3 MB 64.4 MB/s \n",
            "\u001b[K     |████████████████████████████████| 1.1 MB 25.0 MB/s \n",
            "\u001b[K     |████████████████████████████████| 21.6 MB 1.9 MB/s \n",
            "\u001b[K     |████████████████████████████████| 67 kB 3.6 MB/s \n",
            "\u001b[K     |████████████████████████████████| 54 kB 2.6 MB/s \n",
            "\u001b[K     |████████████████████████████████| 138 kB 54.7 MB/s \n",
            "\u001b[K     |████████████████████████████████| 62 kB 419 kB/s \n",
            "\u001b[?25h  Building wheel for roboflow (setup.py) ... \u001b[?25l\u001b[?25hdone\n",
            "  Building wheel for wget (setup.py) ... \u001b[?25l\u001b[?25hdone\n",
            "\u001b[31mERROR: pip's dependency resolver does not currently take into account all the packages that are installed. This behaviour is the source of the following dependency conflicts.\n",
            "google-colab 1.0.0 requires requests~=2.23.0, but you have requests 2.28.1 which is incompatible.\n",
            "datascience 0.10.6 requires folium==0.2.1, but you have folium 0.8.3 which is incompatible.\n",
            "albumentations 0.1.12 requires imgaug<0.2.7,>=0.2.5, but you have imgaug 0.2.9 which is incompatible.\n",
            "roboflow 0.2.12 requires Pillow==9.0.1, but you have pillow 7.1.2 which is incompatible.\u001b[0m\n",
            "Setup complete. Using torch 1.12.0+cu113 (CPU)\n"
          ]
        }
      ],
      "source": [
        "#clone YOLOv5 and \n",
        "!git clone https://github.com/ultralytics/yolov5  # clone repo\n",
        "%cd yolov5\n",
        "%pip install -qr requirements.txt # install dependencies\n",
        "%pip install -q roboflow\n",
        "\n",
        "import torch\n",
        "import os\n",
        "from IPython.display import Image, clear_output  # to display images\n",
        "\n",
        "print(f\"Setup complete. Using torch {torch.__version__} ({torch.cuda.get_device_properties(0).name if torch.cuda.is_available() else 'CPU'})\")"
      ]
    },
    {
      "cell_type": "code",
      "source": [
        "from roboflow import Roboflow\n",
        "rf = Roboflow(model_format=\"yolov5\", notebook=\"ultralytics\")"
      ],
      "metadata": {
        "colab": {
          "base_uri": "https://localhost:8080/"
        },
        "id": "mUZYwztIj8YH",
        "outputId": "4c1c4ec9-5d05-46f6-d771-326dcfe5c7c9"
      },
      "execution_count": null,
      "outputs": [
        {
          "output_type": "stream",
          "name": "stdout",
          "text": [
            "upload and label your dataset, and get an API KEY here: https://app.roboflow.com/?model=yolov5&ref=ultralytics\n"
          ]
        }
      ]
    },
    {
      "cell_type": "code",
      "source": [
        "# set up environment\n",
        "os.environ[\"DATASET_DIRECTORY\"] = \"/content/datasets\""
      ],
      "metadata": {
        "id": "Y3QWVQXmj9bV"
      },
      "execution_count": null,
      "outputs": []
    },
    {
      "cell_type": "code",
      "source": [
        "from roboflow import Roboflow\n",
        "rf = Roboflow(api_key=\"eoGAyng4KmkxW7iaNkim\")\n",
        "project = rf.workspace(\"my-workspace-owlpm\").project(\"calorie-estimation-tgx3k\")\n",
        "dataset = project.version(1).download(\"yolov5\")"
      ],
      "metadata": {
        "id": "P9rLWuRWkBfx",
        "colab": {
          "base_uri": "https://localhost:8080/",
          "height": 380
        },
        "outputId": "cda24f0f-e0fe-4996-cf10-36afc5a66670"
      },
      "execution_count": null,
      "outputs": [
        {
          "output_type": "stream",
          "name": "stdout",
          "text": [
            "loading Roboflow workspace...\n",
            "loading Roboflow project...\n"
          ]
        },
        {
          "output_type": "error",
          "ename": "TypeError",
          "evalue": "ignored",
          "traceback": [
            "\u001b[0;31m---------------------------------------------------------------------------\u001b[0m",
            "\u001b[0;31mTypeError\u001b[0m                                 Traceback (most recent call last)",
            "\u001b[0;32m<ipython-input-7-714589d0948c>\u001b[0m in \u001b[0;36m<module>\u001b[0;34m()\u001b[0m\n\u001b[1;32m      2\u001b[0m \u001b[0mrf\u001b[0m \u001b[0;34m=\u001b[0m \u001b[0mRoboflow\u001b[0m\u001b[0;34m(\u001b[0m\u001b[0mapi_key\u001b[0m\u001b[0;34m=\u001b[0m\u001b[0;34m\"eoGAyng4KmkxW7iaNkim\"\u001b[0m\u001b[0;34m)\u001b[0m\u001b[0;34m\u001b[0m\u001b[0;34m\u001b[0m\u001b[0m\n\u001b[1;32m      3\u001b[0m \u001b[0mproject\u001b[0m \u001b[0;34m=\u001b[0m \u001b[0mrf\u001b[0m\u001b[0;34m.\u001b[0m\u001b[0mworkspace\u001b[0m\u001b[0;34m(\u001b[0m\u001b[0;34m\"my-workspace-owlpm\"\u001b[0m\u001b[0;34m)\u001b[0m\u001b[0;34m.\u001b[0m\u001b[0mproject\u001b[0m\u001b[0;34m(\u001b[0m\u001b[0;34m\"calorie-estimation-tgx3k\"\u001b[0m\u001b[0;34m)\u001b[0m\u001b[0;34m\u001b[0m\u001b[0;34m\u001b[0m\u001b[0m\n\u001b[0;32m----> 4\u001b[0;31m \u001b[0mdataset\u001b[0m \u001b[0;34m=\u001b[0m \u001b[0mproject\u001b[0m\u001b[0;34m.\u001b[0m\u001b[0mversion\u001b[0m\u001b[0;34m(\u001b[0m\u001b[0;36m1\u001b[0m\u001b[0;34m)\u001b[0m\u001b[0;34m.\u001b[0m\u001b[0mdownload\u001b[0m\u001b[0;34m(\u001b[0m\u001b[0;34m\"yolov5\"\u001b[0m\u001b[0;34m)\u001b[0m\u001b[0;34m\u001b[0m\u001b[0;34m\u001b[0m\u001b[0m\n\u001b[0m",
            "\u001b[0;32m/usr/local/lib/python3.7/dist-packages/roboflow/core/project.py\u001b[0m in \u001b[0;36mversion\u001b[0;34m(self, version_number)\u001b[0m\n\u001b[1;32m     95\u001b[0m             \u001b[0mcurrent_version_num\u001b[0m \u001b[0;34m=\u001b[0m \u001b[0mos\u001b[0m\u001b[0;34m.\u001b[0m\u001b[0mpath\u001b[0m\u001b[0;34m.\u001b[0m\u001b[0mbasename\u001b[0m\u001b[0;34m(\u001b[0m\u001b[0mversion_object\u001b[0m\u001b[0;34m[\u001b[0m\u001b[0;34m'id'\u001b[0m\u001b[0;34m]\u001b[0m\u001b[0;34m)\u001b[0m\u001b[0;34m\u001b[0m\u001b[0;34m\u001b[0m\u001b[0m\n\u001b[1;32m     96\u001b[0m             \u001b[0;32mif\u001b[0m \u001b[0mcurrent_version_num\u001b[0m \u001b[0;34m==\u001b[0m \u001b[0mstr\u001b[0m\u001b[0;34m(\u001b[0m\u001b[0mversion_number\u001b[0m\u001b[0;34m)\u001b[0m\u001b[0;34m:\u001b[0m\u001b[0;34m\u001b[0m\u001b[0;34m\u001b[0m\u001b[0m\n\u001b[0;32m---> 97\u001b[0;31m                 \u001b[0mvers\u001b[0m \u001b[0;34m=\u001b[0m \u001b[0mVersion\u001b[0m\u001b[0;34m(\u001b[0m\u001b[0mversion_object\u001b[0m\u001b[0;34m,\u001b[0m \u001b[0mself\u001b[0m\u001b[0;34m.\u001b[0m\u001b[0mtype\u001b[0m\u001b[0;34m,\u001b[0m \u001b[0mself\u001b[0m\u001b[0;34m.\u001b[0m\u001b[0m__api_key\u001b[0m\u001b[0;34m,\u001b[0m \u001b[0mself\u001b[0m\u001b[0;34m.\u001b[0m\u001b[0mname\u001b[0m\u001b[0;34m,\u001b[0m \u001b[0mcurrent_version_num\u001b[0m\u001b[0;34m,\u001b[0m \u001b[0mself\u001b[0m\u001b[0;34m.\u001b[0m\u001b[0mmodel_format\u001b[0m\u001b[0;34m,\u001b[0m \u001b[0mlocal\u001b[0m\u001b[0;34m=\u001b[0m\u001b[0;32mFalse\u001b[0m\u001b[0;34m)\u001b[0m\u001b[0;34m\u001b[0m\u001b[0;34m\u001b[0m\u001b[0m\n\u001b[0m\u001b[1;32m     98\u001b[0m                 \u001b[0;32mreturn\u001b[0m \u001b[0mvers\u001b[0m\u001b[0;34m\u001b[0m\u001b[0;34m\u001b[0m\u001b[0m\n\u001b[1;32m     99\u001b[0m \u001b[0;34m\u001b[0m\u001b[0m\n",
            "\u001b[0;32m/usr/local/lib/python3.7/dist-packages/roboflow/core/version.py\u001b[0m in \u001b[0;36m__init__\u001b[0;34m(self, version_dict, type, api_key, name, version, model_format, local)\u001b[0m\n\u001b[1;32m     48\u001b[0m \u001b[0;34m\u001b[0m\u001b[0m\n\u001b[1;32m     49\u001b[0m             \u001b[0;32mif\u001b[0m \u001b[0mself\u001b[0m\u001b[0;34m.\u001b[0m\u001b[0mtype\u001b[0m \u001b[0;34m==\u001b[0m \u001b[0;34m\"object-detection\"\u001b[0m\u001b[0;34m:\u001b[0m\u001b[0;34m\u001b[0m\u001b[0;34m\u001b[0m\u001b[0m\n\u001b[0;32m---> 50\u001b[0;31m                 \u001b[0mself\u001b[0m\u001b[0;34m.\u001b[0m\u001b[0mmodel\u001b[0m \u001b[0;34m=\u001b[0m \u001b[0mObjectDetectionModel\u001b[0m\u001b[0;34m(\u001b[0m\u001b[0mself\u001b[0m\u001b[0;34m.\u001b[0m\u001b[0m__api_key\u001b[0m\u001b[0;34m,\u001b[0m \u001b[0mself\u001b[0m\u001b[0;34m.\u001b[0m\u001b[0mid\u001b[0m\u001b[0;34m,\u001b[0m \u001b[0mself\u001b[0m\u001b[0;34m.\u001b[0m\u001b[0mname\u001b[0m\u001b[0;34m,\u001b[0m \u001b[0mversion_without_workspace\u001b[0m\u001b[0;34m,\u001b[0m \u001b[0mlocal\u001b[0m\u001b[0;34m=\u001b[0m\u001b[0mlocal\u001b[0m\u001b[0;34m)\u001b[0m\u001b[0;34m\u001b[0m\u001b[0;34m\u001b[0m\u001b[0m\n\u001b[0m\u001b[1;32m     51\u001b[0m             \u001b[0;32melif\u001b[0m \u001b[0mself\u001b[0m\u001b[0;34m.\u001b[0m\u001b[0mtype\u001b[0m \u001b[0;34m==\u001b[0m \u001b[0;34m\"classification\"\u001b[0m\u001b[0;34m:\u001b[0m\u001b[0;34m\u001b[0m\u001b[0;34m\u001b[0m\u001b[0m\n\u001b[1;32m     52\u001b[0m                 \u001b[0mself\u001b[0m\u001b[0;34m.\u001b[0m\u001b[0mmodel\u001b[0m \u001b[0;34m=\u001b[0m \u001b[0mClassificationModel\u001b[0m\u001b[0;34m(\u001b[0m\u001b[0mself\u001b[0m\u001b[0;34m.\u001b[0m\u001b[0m__api_key\u001b[0m\u001b[0;34m,\u001b[0m \u001b[0mself\u001b[0m\u001b[0;34m.\u001b[0m\u001b[0mid\u001b[0m\u001b[0;34m,\u001b[0m \u001b[0mself\u001b[0m\u001b[0;34m.\u001b[0m\u001b[0mname\u001b[0m\u001b[0;34m,\u001b[0m \u001b[0mversion_without_workspace\u001b[0m\u001b[0;34m,\u001b[0m \u001b[0mlocal\u001b[0m\u001b[0;34m=\u001b[0m\u001b[0mlocal\u001b[0m\u001b[0;34m)\u001b[0m\u001b[0;34m\u001b[0m\u001b[0;34m\u001b[0m\u001b[0m\n",
            "\u001b[0;32m/usr/local/lib/python3.7/dist-packages/roboflow/models/object_detection.py\u001b[0m in \u001b[0;36m__init__\u001b[0;34m(self, api_key, id, name, version, local, classes, overlap, confidence, stroke, labels, format)\u001b[0m\n\u001b[1;32m     56\u001b[0m             \u001b[0mself\u001b[0m\u001b[0;34m.\u001b[0m\u001b[0mbase_url\u001b[0m \u001b[0;34m=\u001b[0m \u001b[0;34m\"https://detect.roboflow.com/\"\u001b[0m\u001b[0;34m\u001b[0m\u001b[0;34m\u001b[0m\u001b[0m\n\u001b[1;32m     57\u001b[0m         \u001b[0;32melse\u001b[0m\u001b[0;34m:\u001b[0m\u001b[0;34m\u001b[0m\u001b[0;34m\u001b[0m\u001b[0m\n\u001b[0;32m---> 58\u001b[0;31m             \u001b[0mprint\u001b[0m\u001b[0;34m(\u001b[0m\u001b[0;34m\"initalizing local object detection model hosted at :\"\u001b[0m \u001b[0;34m+\u001b[0m \u001b[0mlocal\u001b[0m\u001b[0;34m)\u001b[0m\u001b[0;34m\u001b[0m\u001b[0;34m\u001b[0m\u001b[0m\n\u001b[0m\u001b[1;32m     59\u001b[0m             \u001b[0mself\u001b[0m\u001b[0;34m.\u001b[0m\u001b[0mbase_url\u001b[0m \u001b[0;34m=\u001b[0m \u001b[0mlocal\u001b[0m\u001b[0;34m\u001b[0m\u001b[0;34m\u001b[0m\u001b[0m\n\u001b[1;32m     60\u001b[0m \u001b[0;34m\u001b[0m\u001b[0m\n",
            "\u001b[0;31mTypeError\u001b[0m: can only concatenate str (not \"bool\") to str"
          ]
        }
      ]
    },
    {
      "cell_type": "code",
      "source": [
        "model = torch.hub.load('ultralytics/yolov5', 'custom', '/content/best_wts.pt')"
      ],
      "metadata": {
        "id": "arScoQWtkCbD"
      },
      "execution_count": null,
      "outputs": []
    },
    {
      "cell_type": "markdown",
      "source": [
        "## ANN to predict calories"
      ],
      "metadata": {
        "id": "mG2pJcS9_-ZO"
      }
    },
    {
      "cell_type": "code",
      "source": [
        "import numpy as np\n",
        "import pandas as pd\n",
        "import tensorflow as tf"
      ],
      "metadata": {
        "id": "grLRYBUvADUn"
      },
      "execution_count": null,
      "outputs": []
    },
    {
      "cell_type": "code",
      "source": [
        "dataset = pd.read_csv('/content/Calorie-data.csv')\n",
        "X = dataset.iloc[:, 1:-1].values\n",
        "y = dataset.iloc[:, -1].values"
      ],
      "metadata": {
        "id": "N1u-oyBSAEgS"
      },
      "execution_count": null,
      "outputs": []
    },
    {
      "cell_type": "code",
      "source": [
        "print(X)"
      ],
      "metadata": {
        "colab": {
          "base_uri": "https://localhost:8080/"
        },
        "id": "-SKZbEBeSUJt",
        "outputId": "a2f6d3f8-db48-4c02-c71b-fcbdc28af5f3"
      },
      "execution_count": null,
      "outputs": [
        {
          "output_type": "stream",
          "name": "stdout",
          "text": [
            "[[    0.35096     0.27404      0.3125     0.26202           0]\n",
            " [    0.50481     0.36899     0.54207     0.43389           0]\n",
            " [    0.38942     0.27163     0.47115     0.36418           0]\n",
            " [    0.51803     0.38702     0.59495     0.47596           0]\n",
            " [    0.39543     0.30288     0.49159     0.37019           0]\n",
            " [    0.48678     0.36538     0.39663     0.34856           0]\n",
            " [    0.44712     0.32091     0.40505     0.32572           0]\n",
            " [    0.41466     0.30529      0.3125     0.27043           0]\n",
            " [     0.4399     0.32572     0.45913     0.34856           0]\n",
            " [    0.42428     0.29447      0.3762     0.29688           0]\n",
            " [    0.36899     0.29567     0.30769     0.25721           0]\n",
            " [    0.36899     0.28365     0.36659     0.30649           0]\n",
            " [    0.31731     0.23798     0.33534     0.26442           0]\n",
            " [    0.36298     0.30409     0.38702     0.36058           0]\n",
            " [    0.42668     0.35457     0.31851     0.26683           0]\n",
            " [    0.35096     0.26683     0.33173     0.26082           0]\n",
            " [    0.38702     0.29567     0.30889     0.28726           0]\n",
            " [    0.32812     0.26202     0.28966     0.24279           0]\n",
            " [    0.34615     0.25361     0.52404     0.42067           0]\n",
            " [    0.23197     0.42788     0.14423     0.41466           1]\n",
            " [     0.6863     0.67548     0.29928     0.41466           1]\n",
            " [     0.5601     0.21635      0.1863     0.52524           1]\n",
            " [    0.48678     0.55288     0.25481     0.31971           1]\n",
            " [    0.78486     0.36418     0.13942     0.60337           1]\n",
            " [    0.55048     0.61298     0.15024     0.33894           1]\n",
            " [    0.41226     0.47236     0.17428     0.32332           1]\n",
            " [    0.86779     0.28846     0.15865     0.60216           1]\n",
            " [    0.80529     0.29567     0.15024     0.60817           1]\n",
            " [    0.68149     0.24038     0.16947     0.60938           1]\n",
            " [     0.6262     0.23918     0.14183     0.45192           1]\n",
            " [    0.61058     0.23077      0.1226     0.41106           1]\n",
            " [    0.60817     0.21995     0.13702     0.48918           1]\n",
            " [    0.70793     0.30168     0.17788     0.54327           1]\n",
            " [    0.31731     0.46875      0.2488     0.49038           1]\n",
            " [    0.63582     0.48798     0.17188     0.53486           2]\n",
            " [    0.57332     0.46394     0.22716     0.54447           2]\n",
            " [    0.63942     0.50841     0.12861     0.65986           2]\n",
            " [    0.53966     0.40385     0.21394     0.58173           2]\n",
            " [    0.71034     0.54567     0.13101     0.61418           2]\n",
            " [    0.54928     0.44231     0.11418         0.5           2]\n",
            " [    0.66827     0.52885      0.1875     0.58534           2]\n",
            " [    0.36779     0.33293     0.23558     0.21514           3]\n",
            " [    0.33173     0.31731     0.23197     0.27043           3]\n",
            " [    0.48678     0.27043     0.30769       0.375           3]\n",
            " [    0.32572     0.35697     0.30409     0.27644           3]\n",
            " [    0.36659     0.25481     0.30889     0.30168           3]\n",
            " [    0.32332     0.30529     0.27644     0.30409           3]\n",
            " [    0.35337      0.3125     0.21755     0.31611           3]\n",
            " [    0.25841     0.28966     0.20553     0.21995           3]\n",
            " [    0.42428     0.31731     0.26683     0.43029           5]\n",
            " [    0.43269     0.32452     0.28486     0.46274           5]\n",
            " [    0.47837     0.34255     0.25841     0.42909           5]\n",
            " [    0.40024     0.32572     0.15986     0.29688           5]\n",
            " [    0.44591     0.34495     0.15144     0.32332           5]\n",
            " [    0.48678     0.34135     0.16226     0.33053           5]\n",
            " [    0.44231     0.31731     0.15865     0.34736           5]\n",
            " [    0.41827     0.29688     0.16827     0.33293           5]\n",
            " [     0.3726     0.29688     0.15505     0.32572           5]\n",
            " [    0.19111     0.17188     0.16346     0.13221           6]\n",
            " [    0.26683     0.16346     0.20312     0.19712           6]\n",
            " [    0.27764     0.16226     0.17188     0.17188           6]\n",
            " [    0.16466     0.17308     0.21394     0.17067           6]\n",
            " [    0.18029     0.16707     0.19712     0.15986           6]\n",
            " [     0.1899     0.20673     0.19231     0.15024           6]\n",
            " [    0.17668     0.21034     0.19471     0.16587           6]\n",
            " [     0.4351     0.12981     0.19591     0.36899           7]\n",
            " [    0.40745     0.18029     0.21274     0.34255           7]\n",
            " [    0.39543     0.12139     0.19471     0.38221           7]\n",
            " [    0.45913     0.15264     0.18029     0.33413           7]\n",
            " [    0.46875     0.14784     0.15986     0.34255           7]\n",
            " [    0.35457       0.125     0.12139     0.29928           7]\n",
            " [    0.33293     0.11058     0.25361     0.54207           7]\n",
            " [    0.56851     0.44952     0.44591     0.52163           8]\n",
            " [     0.4375     0.34255     0.29688     0.36779           8]\n",
            " [    0.30409     0.19471     0.20072     0.18149           9]\n",
            " [    0.34856     0.21394      0.3137     0.29688           9]\n",
            " [    0.30769     0.20433     0.22596     0.16707           9]\n",
            " [    0.26803     0.17668     0.20553      0.1863           9]\n",
            " [    0.21514     0.17548      0.1851     0.13101          10]\n",
            " [    0.19712     0.14303     0.16466     0.14183          10]\n",
            " [    0.24519     0.17308     0.19231     0.16466          10]\n",
            " [    0.24519     0.20312     0.16827     0.13582          10]\n",
            " [    0.23678     0.18029      0.1863     0.15745          10]\n",
            " [    0.30048     0.31851     0.25361     0.22716          11]\n",
            " [    0.30409      0.3149     0.21755     0.20192          11]\n",
            " [    0.26803     0.29207     0.14062     0.19712          11]\n",
            " [    0.30529     0.16707     0.13221     0.17909          11]\n",
            " [    0.30769     0.14784     0.14663     0.22236          11]\n",
            " [    0.31971     0.15385     0.16346      0.2524          11]\n",
            " [    0.29447     0.15385     0.13341     0.20913          11]\n",
            " [    0.31971     0.17188     0.15505     0.24279          11]\n",
            " [    0.24038     0.27764     0.23197     0.23438          11]\n",
            " [    0.23317     0.25962     0.15986     0.16466          11]\n",
            " [    0.22837     0.17668    0.096154     0.15264          12]\n",
            " [    0.19231     0.14543    0.090144     0.15385          12]\n",
            " [    0.20312     0.15986    0.094952     0.14784          12]\n",
            " [    0.24519      0.1863     0.09976     0.17188          12]\n",
            " [    0.21875     0.17188     0.10096     0.17067          12]\n",
            " [    0.34014     0.25841      0.1274     0.22596          12]\n",
            " [    0.38341     0.21995      0.3726     0.28486          13]\n",
            " [    0.44231     0.39423     0.44591     0.38221          13]\n",
            " [    0.48678     0.42188      0.4988     0.45312          13]\n",
            " [    0.44591     0.29688     0.45312     0.35938          13]\n",
            " [    0.32212     0.24159     0.39183     0.30409          13]\n",
            " [    0.28125     0.24159     0.30889     0.23317          13]\n",
            " [    0.36779     0.24639     0.28966     0.22596          13]\n",
            " [    0.34615     0.30409     0.27284     0.25361          13]\n",
            " [    0.30048     0.22115     0.30288     0.25601          13]\n",
            " [    0.37861     0.27764     0.31971     0.26322          13]\n",
            " [    0.44471     0.36178     0.31731      0.2524          13]\n",
            " [    0.30168     0.24159     0.44952     0.35337          13]\n",
            " [    0.29688     0.20793      0.3149     0.24639          13]\n",
            " [    0.32572     0.23438     0.33894     0.30529          13]\n",
            " [    0.28005     0.21635     0.37861      0.3101          13]\n",
            " [    0.26923     0.20553     0.23798      0.1863          14]\n",
            " [    0.25962     0.19231     0.27885     0.20553          14]\n",
            " [     0.2512     0.20192     0.24519     0.20553          14]\n",
            " [    0.30769     0.21394     0.21514     0.17548          14]\n",
            " [    0.32812     0.28486     0.25962     0.21034          14]\n",
            " [    0.39904     0.27885     0.31731     0.23438          15]\n",
            " [    0.29207     0.22115     0.37861      0.3101          15]\n",
            " [    0.34014     0.26082     0.35337     0.26803          15]\n",
            " [    0.32572     0.22476     0.29447     0.23678          15]\n",
            " [    0.29688     0.24639     0.38942     0.31731          15]\n",
            " [    0.28846     0.25601      0.3125      0.2476          15]\n",
            " [    0.36418     0.28486     0.28486     0.23197          16]\n",
            " [    0.27404     0.21274     0.22837     0.20433          16]\n",
            " [    0.26923     0.21755     0.22716      0.1875          16]\n",
            " [    0.28486     0.20072     0.21514     0.19832          16]\n",
            " [     0.4399     0.25962     0.24519     0.27885          17]\n",
            " [    0.34615     0.29087     0.25361     0.22356          17]\n",
            " [     0.2488     0.20673     0.31851     0.20793          17]\n",
            " [    0.27284     0.25601     0.24639     0.22596          17]\n",
            " [    0.21875     0.22596     0.25601     0.30409          17]\n",
            " [    0.30048     0.20673     0.22716     0.23197          17]\n",
            " [    0.31851      0.2488     0.10577    0.069712          17]\n",
            " [    0.23798     0.19231     0.25721     0.19471          17]\n",
            " [    0.30769     0.21755     0.19231     0.29688          18]\n",
            " [    0.31851     0.29447      0.1899     0.26923          18]\n",
            " [    0.26803     0.24038     0.17188      0.2488          18]\n",
            " [    0.27163     0.24038     0.15865     0.21755          18]\n",
            " [    0.33293     0.21755     0.17668     0.27284          18]\n",
            " [    0.36418     0.27404     0.23558      0.2476          19]\n",
            " [    0.31971      0.2488     0.22236     0.20553          19]\n",
            " [    0.36058     0.28846     0.19591     0.21394          19]\n",
            " [    0.38101     0.28486     0.21755     0.23918          19]]\n"
          ]
        }
      ]
    },
    {
      "cell_type": "code",
      "source": [
        "# from sklearn.compose import ColumnTransformer\n",
        "# from sklearn.preprocessing import OneHotEncoder\n",
        "# ct = ColumnTransformer(transformers=[('encoder', OneHotEncoder(), [4])], remainder = 'passthrough')\n",
        "# X = np.array(ct.fit_transform(X).toarray())"
      ],
      "metadata": {
        "id": "UkQmcLYkNbC2"
      },
      "execution_count": null,
      "outputs": []
    },
    {
      "cell_type": "code",
      "source": [
        "# print(X)"
      ],
      "metadata": {
        "id": "TFrpwmhGOf7v"
      },
      "execution_count": null,
      "outputs": []
    },
    {
      "cell_type": "code",
      "source": [
        "ann = tf.keras.models.Sequential()\n",
        "\n",
        "ann.add(tf.keras.layers.Dense(units=12, activation='relu', kernel_regularizer=tf.keras.regularizers.L1(1e-3), bias_regularizer=tf.keras.regularizers.L1(1e-3), activity_regularizer=tf.keras.regularizers.L1(1e-4)))\n",
        "ann.add(tf.keras.layers.Dense(units=18, activation='relu', kernel_regularizer=tf.keras.regularizers.L1(1e-3), bias_regularizer=tf.keras.regularizers.L1(1e-3), activity_regularizer=tf.keras.regularizers.L1(1e-4)))\n",
        "ann.add(tf.keras.layers.Dense(units=30, activation='relu', kernel_regularizer=tf.keras.regularizers.L1(1e-3), bias_regularizer=tf.keras.regularizers.L1(1e-3), activity_regularizer=tf.keras.regularizers.L1(1e-4)))\n",
        "ann.add(tf.keras.layers.Dense(units=18, activation='relu', kernel_regularizer=tf.keras.regularizers.L1(1e-3), bias_regularizer=tf.keras.regularizers.L1(1e-3), activity_regularizer=tf.keras.regularizers.L1(1e-4)))\n",
        "ann.add(tf.keras.layers.Dense(units=12, activation='relu', kernel_regularizer=tf.keras.regularizers.L1(1e-3), bias_regularizer=tf.keras.regularizers.L1(1e-3), activity_regularizer=tf.keras.regularizers.L1(1e-4)))\n",
        "ann.add(tf.keras.layers.Dense(units=1))"
      ],
      "metadata": {
        "id": "uuBjFnEtAzFS"
      },
      "execution_count": null,
      "outputs": []
    },
    {
      "cell_type": "code",
      "source": [
        "ann.compile(optimizer = 'adam', loss = 'mean_squared_error')"
      ],
      "metadata": {
        "id": "3koI5PBRDvYV"
      },
      "execution_count": null,
      "outputs": []
    },
    {
      "cell_type": "code",
      "source": [
        "ann.fit(X, y, batch_size = 8, epochs = 500)"
      ],
      "metadata": {
        "id": "d9tVwp1ZDplu"
      },
      "execution_count": null,
      "outputs": []
    },
    {
      "cell_type": "code",
      "source": [
        "# *apple14, banana10, *bun4, *doughnut7"
      ],
      "metadata": {
        "id": "w-0Lplgn9JY3"
      },
      "execution_count": null,
      "outputs": []
    },
    {
      "cell_type": "code",
      "source": [
        "imS = '/content/datasets/calorie-estimation-1/test/images/bun004S-8-_JPG.rf.af835e57aab7cac43149ffb1f3982071.jpg'  # or file, Path, URL, PIL, OpenCV, numpy, list\n",
        "\n",
        "# Inference\n",
        "results1 = model(imS)\n",
        "\n",
        "# Results\n",
        "results1.print()  # or .show(), .save(), .crop(), .pandas(), etc.\n",
        "\n",
        "results1.xyxy[0]  # im predictions (tensor)\n",
        "results1.pandas().xyxy[0]  # im predictions (pandas)"
      ],
      "metadata": {
        "colab": {
          "base_uri": "https://localhost:8080/",
          "height": 167
        },
        "id": "lehFCChrk7yj",
        "outputId": "2776f2b4-8d8b-49cd-cebf-07f51784deb9"
      },
      "execution_count": null,
      "outputs": [
        {
          "output_type": "stream",
          "name": "stdout",
          "text": [
            "image 1/1: 416x416 1 bun, 1 coin\n",
            "Speed: 13.8ms pre-process, 344.9ms inference, 1.3ms NMS per image at shape (1, 3, 640, 640)\n"
          ]
        },
        {
          "output_type": "execute_result",
          "data": {
            "text/plain": [
              "         xmin        ymin        xmax        ymax  confidence  class  name\n",
              "0  231.978897  171.674088  398.161224  284.680481    0.947157      3   bun\n",
              "1   38.785202  234.299210   76.477150  283.286926    0.940939      4  coin"
            ],
            "text/html": [
              "\n",
              "  <div id=\"df-abdc9fed-44f2-47cd-997c-e30b469c990d\">\n",
              "    <div class=\"colab-df-container\">\n",
              "      <div>\n",
              "<style scoped>\n",
              "    .dataframe tbody tr th:only-of-type {\n",
              "        vertical-align: middle;\n",
              "    }\n",
              "\n",
              "    .dataframe tbody tr th {\n",
              "        vertical-align: top;\n",
              "    }\n",
              "\n",
              "    .dataframe thead th {\n",
              "        text-align: right;\n",
              "    }\n",
              "</style>\n",
              "<table border=\"1\" class=\"dataframe\">\n",
              "  <thead>\n",
              "    <tr style=\"text-align: right;\">\n",
              "      <th></th>\n",
              "      <th>xmin</th>\n",
              "      <th>ymin</th>\n",
              "      <th>xmax</th>\n",
              "      <th>ymax</th>\n",
              "      <th>confidence</th>\n",
              "      <th>class</th>\n",
              "      <th>name</th>\n",
              "    </tr>\n",
              "  </thead>\n",
              "  <tbody>\n",
              "    <tr>\n",
              "      <th>0</th>\n",
              "      <td>231.978897</td>\n",
              "      <td>171.674088</td>\n",
              "      <td>398.161224</td>\n",
              "      <td>284.680481</td>\n",
              "      <td>0.947157</td>\n",
              "      <td>3</td>\n",
              "      <td>bun</td>\n",
              "    </tr>\n",
              "    <tr>\n",
              "      <th>1</th>\n",
              "      <td>38.785202</td>\n",
              "      <td>234.299210</td>\n",
              "      <td>76.477150</td>\n",
              "      <td>283.286926</td>\n",
              "      <td>0.940939</td>\n",
              "      <td>4</td>\n",
              "      <td>coin</td>\n",
              "    </tr>\n",
              "  </tbody>\n",
              "</table>\n",
              "</div>\n",
              "      <button class=\"colab-df-convert\" onclick=\"convertToInteractive('df-abdc9fed-44f2-47cd-997c-e30b469c990d')\"\n",
              "              title=\"Convert this dataframe to an interactive table.\"\n",
              "              style=\"display:none;\">\n",
              "        \n",
              "  <svg xmlns=\"http://www.w3.org/2000/svg\" height=\"24px\"viewBox=\"0 0 24 24\"\n",
              "       width=\"24px\">\n",
              "    <path d=\"M0 0h24v24H0V0z\" fill=\"none\"/>\n",
              "    <path d=\"M18.56 5.44l.94 2.06.94-2.06 2.06-.94-2.06-.94-.94-2.06-.94 2.06-2.06.94zm-11 1L8.5 8.5l.94-2.06 2.06-.94-2.06-.94L8.5 2.5l-.94 2.06-2.06.94zm10 10l.94 2.06.94-2.06 2.06-.94-2.06-.94-.94-2.06-.94 2.06-2.06.94z\"/><path d=\"M17.41 7.96l-1.37-1.37c-.4-.4-.92-.59-1.43-.59-.52 0-1.04.2-1.43.59L10.3 9.45l-7.72 7.72c-.78.78-.78 2.05 0 2.83L4 21.41c.39.39.9.59 1.41.59.51 0 1.02-.2 1.41-.59l7.78-7.78 2.81-2.81c.8-.78.8-2.07 0-2.86zM5.41 20L4 18.59l7.72-7.72 1.47 1.35L5.41 20z\"/>\n",
              "  </svg>\n",
              "      </button>\n",
              "      \n",
              "  <style>\n",
              "    .colab-df-container {\n",
              "      display:flex;\n",
              "      flex-wrap:wrap;\n",
              "      gap: 12px;\n",
              "    }\n",
              "\n",
              "    .colab-df-convert {\n",
              "      background-color: #E8F0FE;\n",
              "      border: none;\n",
              "      border-radius: 50%;\n",
              "      cursor: pointer;\n",
              "      display: none;\n",
              "      fill: #1967D2;\n",
              "      height: 32px;\n",
              "      padding: 0 0 0 0;\n",
              "      width: 32px;\n",
              "    }\n",
              "\n",
              "    .colab-df-convert:hover {\n",
              "      background-color: #E2EBFA;\n",
              "      box-shadow: 0px 1px 2px rgba(60, 64, 67, 0.3), 0px 1px 3px 1px rgba(60, 64, 67, 0.15);\n",
              "      fill: #174EA6;\n",
              "    }\n",
              "\n",
              "    [theme=dark] .colab-df-convert {\n",
              "      background-color: #3B4455;\n",
              "      fill: #D2E3FC;\n",
              "    }\n",
              "\n",
              "    [theme=dark] .colab-df-convert:hover {\n",
              "      background-color: #434B5C;\n",
              "      box-shadow: 0px 1px 3px 1px rgba(0, 0, 0, 0.15);\n",
              "      filter: drop-shadow(0px 1px 2px rgba(0, 0, 0, 0.3));\n",
              "      fill: #FFFFFF;\n",
              "    }\n",
              "  </style>\n",
              "\n",
              "      <script>\n",
              "        const buttonEl =\n",
              "          document.querySelector('#df-abdc9fed-44f2-47cd-997c-e30b469c990d button.colab-df-convert');\n",
              "        buttonEl.style.display =\n",
              "          google.colab.kernel.accessAllowed ? 'block' : 'none';\n",
              "\n",
              "        async function convertToInteractive(key) {\n",
              "          const element = document.querySelector('#df-abdc9fed-44f2-47cd-997c-e30b469c990d');\n",
              "          const dataTable =\n",
              "            await google.colab.kernel.invokeFunction('convertToInteractive',\n",
              "                                                     [key], {});\n",
              "          if (!dataTable) return;\n",
              "\n",
              "          const docLinkHtml = 'Like what you see? Visit the ' +\n",
              "            '<a target=\"_blank\" href=https://colab.research.google.com/notebooks/data_table.ipynb>data table notebook</a>'\n",
              "            + ' to learn more about interactive tables.';\n",
              "          element.innerHTML = '';\n",
              "          dataTable['output_type'] = 'display_data';\n",
              "          await google.colab.output.renderOutput(dataTable, element);\n",
              "          const docLink = document.createElement('div');\n",
              "          docLink.innerHTML = docLinkHtml;\n",
              "          element.appendChild(docLink);\n",
              "        }\n",
              "      </script>\n",
              "    </div>\n",
              "  </div>\n",
              "  "
            ]
          },
          "metadata": {},
          "execution_count": 76
        }
      ]
    },
    {
      "cell_type": "code",
      "source": [
        "imT = '/content/datasets/calorie-estimation-1/test/images/bun004T-8-_JPG.rf.798f2dfafa38ff940641e08e9076f599.jpg'  # or file, Path, URL, PIL, OpenCV, numpy, list\n",
        "\n",
        "# Inference\n",
        "results2 = model(imT)\n",
        "\n",
        "# Results\n",
        "results2.print()  # or .show(), .save(), .crop(), .pandas(), etc.\n",
        "\n",
        "results2.xyxy[0]  # im predictions (tensor)\n",
        "results2.pandas().xyxy[0]  # im predictions (pandas)"
      ],
      "metadata": {
        "colab": {
          "base_uri": "https://localhost:8080/",
          "height": 167
        },
        "id": "MxD2EnjBpuF-",
        "outputId": "ad4d2d7f-28a1-46d5-f5cc-4490f2cf722e"
      },
      "execution_count": null,
      "outputs": [
        {
          "output_type": "stream",
          "name": "stdout",
          "text": [
            "image 1/1: 416x416 1 bun, 1 coin\n",
            "Speed: 12.4ms pre-process, 341.8ms inference, 1.3ms NMS per image at shape (1, 3, 640, 640)\n"
          ]
        },
        {
          "output_type": "execute_result",
          "data": {
            "text/plain": [
              "         xmin        ymin        xmax        ymax  confidence  class  name\n",
              "0  191.405533  118.837395  306.475739  346.697021    0.944095      3   bun\n",
              "1   43.009560  146.179092   80.699890  195.213531    0.930570      4  coin"
            ],
            "text/html": [
              "\n",
              "  <div id=\"df-3a0f7f54-90f7-49ad-9f9e-3e93bcf31f7d\">\n",
              "    <div class=\"colab-df-container\">\n",
              "      <div>\n",
              "<style scoped>\n",
              "    .dataframe tbody tr th:only-of-type {\n",
              "        vertical-align: middle;\n",
              "    }\n",
              "\n",
              "    .dataframe tbody tr th {\n",
              "        vertical-align: top;\n",
              "    }\n",
              "\n",
              "    .dataframe thead th {\n",
              "        text-align: right;\n",
              "    }\n",
              "</style>\n",
              "<table border=\"1\" class=\"dataframe\">\n",
              "  <thead>\n",
              "    <tr style=\"text-align: right;\">\n",
              "      <th></th>\n",
              "      <th>xmin</th>\n",
              "      <th>ymin</th>\n",
              "      <th>xmax</th>\n",
              "      <th>ymax</th>\n",
              "      <th>confidence</th>\n",
              "      <th>class</th>\n",
              "      <th>name</th>\n",
              "    </tr>\n",
              "  </thead>\n",
              "  <tbody>\n",
              "    <tr>\n",
              "      <th>0</th>\n",
              "      <td>191.405533</td>\n",
              "      <td>118.837395</td>\n",
              "      <td>306.475739</td>\n",
              "      <td>346.697021</td>\n",
              "      <td>0.944095</td>\n",
              "      <td>3</td>\n",
              "      <td>bun</td>\n",
              "    </tr>\n",
              "    <tr>\n",
              "      <th>1</th>\n",
              "      <td>43.009560</td>\n",
              "      <td>146.179092</td>\n",
              "      <td>80.699890</td>\n",
              "      <td>195.213531</td>\n",
              "      <td>0.930570</td>\n",
              "      <td>4</td>\n",
              "      <td>coin</td>\n",
              "    </tr>\n",
              "  </tbody>\n",
              "</table>\n",
              "</div>\n",
              "      <button class=\"colab-df-convert\" onclick=\"convertToInteractive('df-3a0f7f54-90f7-49ad-9f9e-3e93bcf31f7d')\"\n",
              "              title=\"Convert this dataframe to an interactive table.\"\n",
              "              style=\"display:none;\">\n",
              "        \n",
              "  <svg xmlns=\"http://www.w3.org/2000/svg\" height=\"24px\"viewBox=\"0 0 24 24\"\n",
              "       width=\"24px\">\n",
              "    <path d=\"M0 0h24v24H0V0z\" fill=\"none\"/>\n",
              "    <path d=\"M18.56 5.44l.94 2.06.94-2.06 2.06-.94-2.06-.94-.94-2.06-.94 2.06-2.06.94zm-11 1L8.5 8.5l.94-2.06 2.06-.94-2.06-.94L8.5 2.5l-.94 2.06-2.06.94zm10 10l.94 2.06.94-2.06 2.06-.94-2.06-.94-.94-2.06-.94 2.06-2.06.94z\"/><path d=\"M17.41 7.96l-1.37-1.37c-.4-.4-.92-.59-1.43-.59-.52 0-1.04.2-1.43.59L10.3 9.45l-7.72 7.72c-.78.78-.78 2.05 0 2.83L4 21.41c.39.39.9.59 1.41.59.51 0 1.02-.2 1.41-.59l7.78-7.78 2.81-2.81c.8-.78.8-2.07 0-2.86zM5.41 20L4 18.59l7.72-7.72 1.47 1.35L5.41 20z\"/>\n",
              "  </svg>\n",
              "      </button>\n",
              "      \n",
              "  <style>\n",
              "    .colab-df-container {\n",
              "      display:flex;\n",
              "      flex-wrap:wrap;\n",
              "      gap: 12px;\n",
              "    }\n",
              "\n",
              "    .colab-df-convert {\n",
              "      background-color: #E8F0FE;\n",
              "      border: none;\n",
              "      border-radius: 50%;\n",
              "      cursor: pointer;\n",
              "      display: none;\n",
              "      fill: #1967D2;\n",
              "      height: 32px;\n",
              "      padding: 0 0 0 0;\n",
              "      width: 32px;\n",
              "    }\n",
              "\n",
              "    .colab-df-convert:hover {\n",
              "      background-color: #E2EBFA;\n",
              "      box-shadow: 0px 1px 2px rgba(60, 64, 67, 0.3), 0px 1px 3px 1px rgba(60, 64, 67, 0.15);\n",
              "      fill: #174EA6;\n",
              "    }\n",
              "\n",
              "    [theme=dark] .colab-df-convert {\n",
              "      background-color: #3B4455;\n",
              "      fill: #D2E3FC;\n",
              "    }\n",
              "\n",
              "    [theme=dark] .colab-df-convert:hover {\n",
              "      background-color: #434B5C;\n",
              "      box-shadow: 0px 1px 3px 1px rgba(0, 0, 0, 0.15);\n",
              "      filter: drop-shadow(0px 1px 2px rgba(0, 0, 0, 0.3));\n",
              "      fill: #FFFFFF;\n",
              "    }\n",
              "  </style>\n",
              "\n",
              "      <script>\n",
              "        const buttonEl =\n",
              "          document.querySelector('#df-3a0f7f54-90f7-49ad-9f9e-3e93bcf31f7d button.colab-df-convert');\n",
              "        buttonEl.style.display =\n",
              "          google.colab.kernel.accessAllowed ? 'block' : 'none';\n",
              "\n",
              "        async function convertToInteractive(key) {\n",
              "          const element = document.querySelector('#df-3a0f7f54-90f7-49ad-9f9e-3e93bcf31f7d');\n",
              "          const dataTable =\n",
              "            await google.colab.kernel.invokeFunction('convertToInteractive',\n",
              "                                                     [key], {});\n",
              "          if (!dataTable) return;\n",
              "\n",
              "          const docLinkHtml = 'Like what you see? Visit the ' +\n",
              "            '<a target=\"_blank\" href=https://colab.research.google.com/notebooks/data_table.ipynb>data table notebook</a>'\n",
              "            + ' to learn more about interactive tables.';\n",
              "          element.innerHTML = '';\n",
              "          dataTable['output_type'] = 'display_data';\n",
              "          await google.colab.output.renderOutput(dataTable, element);\n",
              "          const docLink = document.createElement('div');\n",
              "          docLink.innerHTML = docLinkHtml;\n",
              "          element.appendChild(docLink);\n",
              "        }\n",
              "      </script>\n",
              "    </div>\n",
              "  </div>\n",
              "  "
            ]
          },
          "metadata": {},
          "execution_count": 77
        }
      ]
    },
    {
      "cell_type": "code",
      "source": [
        "confidence1 = results1.pandas().xyxy[0][results1.pandas().xyxy[0]['class']!=4]['confidence'].values.item()\n",
        "hs = (results1.pandas().xyxy[0][results1.pandas().xyxy[0]['class']!=4]['ymax'].values.item() - results1.pandas().xyxy[0][results1.pandas().xyxy[0]['class']!=4]['ymin'].values.item())/416\n",
        "ws = (results1.pandas().xyxy[0][results1.pandas().xyxy[0]['class']!=4]['xmax'].values.item() - results1.pandas().xyxy[0][results1.pandas().xyxy[0]['class']!=4]['xmin'].values.item())/416"
      ],
      "metadata": {
        "id": "E7rpI2vCztHX"
      },
      "execution_count": null,
      "outputs": []
    },
    {
      "cell_type": "code",
      "source": [
        "confidence2 = results2.pandas().xyxy[0][results2.pandas().xyxy[0]['class']!=4]['confidence'].values.item()\n",
        "ht = (results2.pandas().xyxy[0][results2.pandas().xyxy[0]['class']!=4]['ymax'].values.item() - results2.pandas().xyxy[0][results2.pandas().xyxy[0]['class']!=4]['ymin'].values.item())/416\n",
        "wt = (results2.pandas().xyxy[0][results2.pandas().xyxy[0]['class']!=4]['xmax'].values.item() - results2.pandas().xyxy[0][results2.pandas().xyxy[0]['class']!=4]['xmin'].values.item())/416"
      ],
      "metadata": {
        "id": "-zFSbbmgq2wz"
      },
      "execution_count": null,
      "outputs": []
    },
    {
      "cell_type": "code",
      "source": [
        "class_name = results1.pandas().xyxy[0][results1.pandas().xyxy[0]['class']!=4]['class'].values.item()"
      ],
      "metadata": {
        "id": "XFPpcMsjE-L2"
      },
      "execution_count": null,
      "outputs": []
    },
    {
      "cell_type": "code",
      "source": [
        "class_name"
      ],
      "metadata": {
        "colab": {
          "base_uri": "https://localhost:8080/"
        },
        "id": "m0R-GcWbb0zM",
        "outputId": "cd1809c1-e259-462c-c68d-e6143c25830c"
      },
      "execution_count": null,
      "outputs": [
        {
          "output_type": "execute_result",
          "data": {
            "text/plain": [
              "3"
            ]
          },
          "metadata": {},
          "execution_count": 81
        }
      ]
    },
    {
      "cell_type": "code",
      "source": [
        "X.shape"
      ],
      "metadata": {
        "colab": {
          "base_uri": "https://localhost:8080/"
        },
        "id": "g2o0t4MDXkyz",
        "outputId": "ec598709-d060-4053-811d-d37cc389afe7"
      },
      "execution_count": null,
      "outputs": [
        {
          "output_type": "execute_result",
          "data": {
            "text/plain": [
              "(146, 5)"
            ]
          },
          "metadata": {},
          "execution_count": 37
        }
      ]
    },
    {
      "cell_type": "code",
      "source": [
        "# a=[]\n",
        "# for i in range(0,19):\n",
        "    # a.append(0)\n",
        "# a[class_name]=1"
      ],
      "metadata": {
        "id": "m5bxl8MBX2U2"
      },
      "execution_count": null,
      "outputs": []
    },
    {
      "cell_type": "code",
      "source": [
        "# a = np.array(a)\n",
        "# a"
      ],
      "metadata": {
        "id": "y7-0q9d_ZvgW"
      },
      "execution_count": null,
      "outputs": []
    },
    {
      "cell_type": "code",
      "source": [
        "# dims = np.array([ht,wt,hs,ws])"
      ],
      "metadata": {
        "id": "XJvJVPwkaNFH"
      },
      "execution_count": null,
      "outputs": []
    },
    {
      "cell_type": "code",
      "source": [
        "# X_test = np.concatenate([a,dims])\n",
        "X_test = [[ht,wt,hs,ws,class_name]]\n",
        "Cal_predict=ann.predict(X_test)\n",
        "Cal_predict"
      ],
      "metadata": {
        "colab": {
          "base_uri": "https://localhost:8080/"
        },
        "id": "WcvXswjaGZhf",
        "outputId": "a8a60ef9-7ecb-4bb2-b99a-263f823bba91"
      },
      "execution_count": null,
      "outputs": [
        {
          "output_type": "execute_result",
          "data": {
            "text/plain": [
              "array([[     239.15]], dtype=float32)"
            ]
          },
          "metadata": {},
          "execution_count": 82
        }
      ]
    },
    {
      "cell_type": "markdown",
      "source": [
        "---"
      ],
      "metadata": {
        "id": "7_zP4uaeKI9C"
      }
    }
  ]
}